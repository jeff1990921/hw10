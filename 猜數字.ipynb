{
  "nbformat": 4,
  "nbformat_minor": 0,
  "metadata": {
    "colab": {
      "name": "猜數字.ipynb",
      "provenance": [],
      "collapsed_sections": []
    },
    "kernelspec": {
      "name": "python3",
      "display_name": "Python 3"
    }
  },
  "cells": [
    {
      "cell_type": "markdown",
      "metadata": {
        "id": "98cZEnZLjAlF",
        "colab_type": "text"
      },
      "source": [
        "猜數字遊戲"
      ]
    },
    {
      "cell_type": "code",
      "metadata": {
        "id": "8kN5RZO2iAuu",
        "colab_type": "code",
        "outputId": "9ba01ae0-b3dd-4759-9961-dbd5290b1daf",
        "colab": {
          "base_uri": "https://localhost:8080/",
          "height": 221
        }
      },
      "source": [
        "import random\n",
        "ans = random.randint(1,100)\n",
        "while True:\n",
        "  guess = int(input('guess:'))\n",
        "  if guess > ans:\n",
        "    print('too big')\n",
        "  elif guess < ans:\n",
        "    print('too small')\n",
        "  else:\n",
        "    print('hit')\n",
        "    break"
      ],
      "execution_count": 0,
      "outputs": [
        {
          "output_type": "stream",
          "text": [
            "guess:50\n",
            "too small\n",
            "guess:75\n",
            "too big\n",
            "guess:67\n",
            "too small\n",
            "guess:70\n",
            "too big\n",
            "guess:68\n",
            "too small\n",
            "guess:69\n",
            "hit\n"
          ],
          "name": "stdout"
        }
      ]
    }
  ]
}